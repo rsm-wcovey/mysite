{
 "cells": [
  {
   "cell_type": "code",
   "execution_count": 1,
   "id": "cbc5810e",
   "metadata": {},
   "outputs": [
    {
     "name": "stdout",
     "output_type": "stream",
     "text": [
      "f98f3d8cbcfa62aac83f1abb6411e40c5da9b2cf9ed67c0227b8675351a04500\n"
     ]
    }
   ],
   "source": [
    "import hashlib\n",
    "\n",
    "pw = 'bigbear'\n",
    "hpw = hashlib.sha256(pw.encode()).hexdigest()\n",
    "print(hpw)"
   ]
  }
 ],
 "metadata": {
  "kernelspec": {
   "display_name": "base",
   "language": "python",
   "name": "python3"
  },
  "language_info": {
   "codemirror_mode": {
    "name": "ipython",
    "version": 3
   },
   "file_extension": ".py",
   "mimetype": "text/x-python",
   "name": "python",
   "nbconvert_exporter": "python",
   "pygments_lexer": "ipython3",
   "version": "3.11.9"
  }
 },
 "nbformat": 4,
 "nbformat_minor": 5
}
