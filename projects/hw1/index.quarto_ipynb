{
  "cells": [
    {
      "cell_type": "markdown",
      "metadata": {},
      "source": [
        "---\n",
        "title: hw1\n",
        "---\n",
        "\n",
        "# Question 1"
      ],
      "id": "afe98968"
    },
    {
      "cell_type": "code",
      "metadata": {},
      "source": [
        "x = 3\n",
        "y = 5\n",
        "z = x + y\n",
        "print(f'hello world {z}')"
      ],
      "id": "48b05502",
      "execution_count": null,
      "outputs": []
    }
  ],
  "metadata": {
    "kernelspec": {
      "display_name": "Python 3",
      "language": "python",
      "name": "python3"
    }
  },
  "nbformat": 4,
  "nbformat_minor": 5
}